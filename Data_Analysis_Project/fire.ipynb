{
 "cells": [
  {
   "cell_type": "markdown",
   "metadata": {},
   "source": [
    "[ 모듈 로딩 ] <hr>"
   ]
  },
  {
   "cell_type": "code",
   "execution_count": 1,
   "metadata": {},
   "outputs": [],
   "source": [
    "import pandas as pd\n",
    "import numpy as np"
   ]
  },
  {
   "cell_type": "markdown",
   "metadata": {},
   "source": [
    "[ 데이터 준비 ] <hr>"
   ]
  },
  {
   "cell_type": "code",
   "execution_count": 2,
   "metadata": {},
   "outputs": [
    {
     "data": {
      "text/html": [
       "<div>\n",
       "<style scoped>\n",
       "    .dataframe tbody tr th:only-of-type {\n",
       "        vertical-align: middle;\n",
       "    }\n",
       "\n",
       "    .dataframe tbody tr th {\n",
       "        vertical-align: top;\n",
       "    }\n",
       "\n",
       "    .dataframe thead th {\n",
       "        text-align: right;\n",
       "    }\n",
       "</style>\n",
       "<table border=\"1\" class=\"dataframe\">\n",
       "  <thead>\n",
       "    <tr style=\"text-align: right;\">\n",
       "      <th></th>\n",
       "      <th>발생일시_년</th>\n",
       "      <th>발생일시_월</th>\n",
       "      <th>발생일시_일</th>\n",
       "      <th>발생일시_시간</th>\n",
       "      <th>발생일시_요일</th>\n",
       "      <th>진화종료시간_년</th>\n",
       "      <th>진화종료시간_월</th>\n",
       "      <th>진화종료시간_일</th>\n",
       "      <th>진화종료시간_시간</th>\n",
       "      <th>발생장소_관서</th>\n",
       "      <th>발생장소_시도</th>\n",
       "      <th>발생장소_시군구</th>\n",
       "      <th>발생장소_읍면</th>\n",
       "      <th>발생장소_동리</th>\n",
       "      <th>발생원인_구분</th>\n",
       "      <th>발생원인_세부원인</th>\n",
       "      <th>발생원인_기타</th>\n",
       "      <th>피해면적_합계</th>\n",
       "    </tr>\n",
       "  </thead>\n",
       "  <tbody>\n",
       "    <tr>\n",
       "      <th>0</th>\n",
       "      <td>2024</td>\n",
       "      <td>12</td>\n",
       "      <td>31</td>\n",
       "      <td>14:15</td>\n",
       "      <td>화</td>\n",
       "      <td>2025</td>\n",
       "      <td>1</td>\n",
       "      <td>1</td>\n",
       "      <td>10:32</td>\n",
       "      <td>대구</td>\n",
       "      <td>대구</td>\n",
       "      <td>군위</td>\n",
       "      <td>삼국유사</td>\n",
       "      <td>화북</td>\n",
       "      <td>기</td>\n",
       "      <td>기타(직접입력)</td>\n",
       "      <td>조사중</td>\n",
       "      <td>14.50</td>\n",
       "    </tr>\n",
       "    <tr>\n",
       "      <th>1</th>\n",
       "      <td>2024</td>\n",
       "      <td>12</td>\n",
       "      <td>30</td>\n",
       "      <td>15:00</td>\n",
       "      <td>월</td>\n",
       "      <td>2024</td>\n",
       "      <td>12</td>\n",
       "      <td>30</td>\n",
       "      <td>16:45</td>\n",
       "      <td>경기</td>\n",
       "      <td>경기</td>\n",
       "      <td>양평</td>\n",
       "      <td>강하</td>\n",
       "      <td>왕창</td>\n",
       "      <td>기</td>\n",
       "      <td>기타(직접입력)</td>\n",
       "      <td>재 취급 부주의</td>\n",
       "      <td>0.06</td>\n",
       "    </tr>\n",
       "    <tr>\n",
       "      <th>2</th>\n",
       "      <td>2024</td>\n",
       "      <td>12</td>\n",
       "      <td>30</td>\n",
       "      <td>13:08</td>\n",
       "      <td>월</td>\n",
       "      <td>2024</td>\n",
       "      <td>12</td>\n",
       "      <td>30</td>\n",
       "      <td>15:57</td>\n",
       "      <td>경기</td>\n",
       "      <td>경기</td>\n",
       "      <td>파주</td>\n",
       "      <td>NaN</td>\n",
       "      <td>금릉</td>\n",
       "      <td>담</td>\n",
       "      <td>기타(직접입력)</td>\n",
       "      <td>담뱃불 실화</td>\n",
       "      <td>0.01</td>\n",
       "    </tr>\n",
       "    <tr>\n",
       "      <th>3</th>\n",
       "      <td>2024</td>\n",
       "      <td>12</td>\n",
       "      <td>29</td>\n",
       "      <td>14:10</td>\n",
       "      <td>일</td>\n",
       "      <td>2024</td>\n",
       "      <td>12</td>\n",
       "      <td>29</td>\n",
       "      <td>15:00</td>\n",
       "      <td>강원</td>\n",
       "      <td>강원</td>\n",
       "      <td>강릉</td>\n",
       "      <td>NaN</td>\n",
       "      <td>운정</td>\n",
       "      <td>쓰</td>\n",
       "      <td>기타(직접입력)</td>\n",
       "      <td>쓰레기 소각</td>\n",
       "      <td>0.01</td>\n",
       "    </tr>\n",
       "    <tr>\n",
       "      <th>4</th>\n",
       "      <td>2024</td>\n",
       "      <td>12</td>\n",
       "      <td>28</td>\n",
       "      <td>09:26</td>\n",
       "      <td>토</td>\n",
       "      <td>2024</td>\n",
       "      <td>12</td>\n",
       "      <td>28</td>\n",
       "      <td>12:00</td>\n",
       "      <td>강원</td>\n",
       "      <td>강원</td>\n",
       "      <td>양양</td>\n",
       "      <td>현북</td>\n",
       "      <td>도</td>\n",
       "      <td>기</td>\n",
       "      <td>기타(직접입력)</td>\n",
       "      <td>원인미상</td>\n",
       "      <td>0.20</td>\n",
       "    </tr>\n",
       "    <tr>\n",
       "      <th>...</th>\n",
       "      <td>...</td>\n",
       "      <td>...</td>\n",
       "      <td>...</td>\n",
       "      <td>...</td>\n",
       "      <td>...</td>\n",
       "      <td>...</td>\n",
       "      <td>...</td>\n",
       "      <td>...</td>\n",
       "      <td>...</td>\n",
       "      <td>...</td>\n",
       "      <td>...</td>\n",
       "      <td>...</td>\n",
       "      <td>...</td>\n",
       "      <td>...</td>\n",
       "      <td>...</td>\n",
       "      <td>...</td>\n",
       "      <td>...</td>\n",
       "      <td>...</td>\n",
       "    </tr>\n",
       "    <tr>\n",
       "      <th>5450</th>\n",
       "      <td>2015</td>\n",
       "      <td>1</td>\n",
       "      <td>10</td>\n",
       "      <td>13:02</td>\n",
       "      <td>토</td>\n",
       "      <td>2015</td>\n",
       "      <td>1</td>\n",
       "      <td>10</td>\n",
       "      <td>16:00</td>\n",
       "      <td>강원</td>\n",
       "      <td>강원</td>\n",
       "      <td>강릉</td>\n",
       "      <td>왕산</td>\n",
       "      <td>대기</td>\n",
       "      <td>입</td>\n",
       "      <td>기타(직접입력)</td>\n",
       "      <td>입산자 실화</td>\n",
       "      <td>0.20</td>\n",
       "    </tr>\n",
       "    <tr>\n",
       "      <th>5451</th>\n",
       "      <td>2015</td>\n",
       "      <td>1</td>\n",
       "      <td>5</td>\n",
       "      <td>01:54</td>\n",
       "      <td>월</td>\n",
       "      <td>2015</td>\n",
       "      <td>1</td>\n",
       "      <td>5</td>\n",
       "      <td>03:00</td>\n",
       "      <td>강원</td>\n",
       "      <td>강원</td>\n",
       "      <td>강릉</td>\n",
       "      <td>주문진</td>\n",
       "      <td>주문</td>\n",
       "      <td>입</td>\n",
       "      <td>기타(직접입력)</td>\n",
       "      <td>입산자 실화</td>\n",
       "      <td>0.16</td>\n",
       "    </tr>\n",
       "    <tr>\n",
       "      <th>5452</th>\n",
       "      <td>2015</td>\n",
       "      <td>1</td>\n",
       "      <td>4</td>\n",
       "      <td>15:40</td>\n",
       "      <td>일</td>\n",
       "      <td>2015</td>\n",
       "      <td>1</td>\n",
       "      <td>4</td>\n",
       "      <td>16:50</td>\n",
       "      <td>전남</td>\n",
       "      <td>전남</td>\n",
       "      <td>순천</td>\n",
       "      <td>서</td>\n",
       "      <td>청소</td>\n",
       "      <td>입</td>\n",
       "      <td>기타(직접입력)</td>\n",
       "      <td>입산자 실화</td>\n",
       "      <td>0.02</td>\n",
       "    </tr>\n",
       "    <tr>\n",
       "      <th>5453</th>\n",
       "      <td>2015</td>\n",
       "      <td>1</td>\n",
       "      <td>4</td>\n",
       "      <td>15:18</td>\n",
       "      <td>일</td>\n",
       "      <td>2015</td>\n",
       "      <td>1</td>\n",
       "      <td>4</td>\n",
       "      <td>16:40</td>\n",
       "      <td>경북</td>\n",
       "      <td>경북</td>\n",
       "      <td>안동</td>\n",
       "      <td>남후</td>\n",
       "      <td>하아</td>\n",
       "      <td>입</td>\n",
       "      <td>기타(직접입력)</td>\n",
       "      <td>입산자 실화</td>\n",
       "      <td>0.05</td>\n",
       "    </tr>\n",
       "    <tr>\n",
       "      <th>5454</th>\n",
       "      <td>2015</td>\n",
       "      <td>1</td>\n",
       "      <td>3</td>\n",
       "      <td>13:36</td>\n",
       "      <td>토</td>\n",
       "      <td>2015</td>\n",
       "      <td>1</td>\n",
       "      <td>3</td>\n",
       "      <td>14:20</td>\n",
       "      <td>부산</td>\n",
       "      <td>부산</td>\n",
       "      <td>해운대</td>\n",
       "      <td>중</td>\n",
       "      <td>NaN</td>\n",
       "      <td>입</td>\n",
       "      <td>기타(직접입력)</td>\n",
       "      <td>입산자 실화</td>\n",
       "      <td>0.50</td>\n",
       "    </tr>\n",
       "  </tbody>\n",
       "</table>\n",
       "<p>5455 rows × 18 columns</p>\n",
       "</div>"
      ],
      "text/plain": [
       "      발생일시_년  발생일시_월  발생일시_일 발생일시_시간 발생일시_요일  진화종료시간_년  진화종료시간_월  진화종료시간_일  \\\n",
       "0       2024      12      31   14:15       화      2025         1         1   \n",
       "1       2024      12      30   15:00       월      2024        12        30   \n",
       "2       2024      12      30   13:08       월      2024        12        30   \n",
       "3       2024      12      29   14:10       일      2024        12        29   \n",
       "4       2024      12      28   09:26       토      2024        12        28   \n",
       "...      ...     ...     ...     ...     ...       ...       ...       ...   \n",
       "5450    2015       1      10   13:02       토      2015         1        10   \n",
       "5451    2015       1       5   01:54       월      2015         1         5   \n",
       "5452    2015       1       4   15:40       일      2015         1         4   \n",
       "5453    2015       1       4   15:18       일      2015         1         4   \n",
       "5454    2015       1       3   13:36       토      2015         1         3   \n",
       "\n",
       "     진화종료시간_시간 발생장소_관서 발생장소_시도 발생장소_시군구 발생장소_읍면 발생장소_동리 발생원인_구분 발생원인_세부원인  \\\n",
       "0        10:32      대구      대구       군위    삼국유사      화북       기  기타(직접입력)   \n",
       "1        16:45      경기      경기       양평      강하      왕창       기  기타(직접입력)   \n",
       "2        15:57      경기      경기       파주     NaN      금릉       담  기타(직접입력)   \n",
       "3        15:00      강원      강원       강릉     NaN      운정       쓰  기타(직접입력)   \n",
       "4        12:00      강원      강원       양양      현북       도       기  기타(직접입력)   \n",
       "...        ...     ...     ...      ...     ...     ...     ...       ...   \n",
       "5450     16:00      강원      강원       강릉      왕산      대기       입  기타(직접입력)   \n",
       "5451     03:00      강원      강원       강릉     주문진      주문       입  기타(직접입력)   \n",
       "5452     16:50      전남      전남       순천       서      청소       입  기타(직접입력)   \n",
       "5453     16:40      경북      경북       안동      남후      하아       입  기타(직접입력)   \n",
       "5454     14:20      부산      부산      해운대       중     NaN       입  기타(직접입력)   \n",
       "\n",
       "       발생원인_기타  피해면적_합계  \n",
       "0          조사중    14.50  \n",
       "1     재 취급 부주의     0.06  \n",
       "2       담뱃불 실화     0.01  \n",
       "3       쓰레기 소각     0.01  \n",
       "4         원인미상     0.20  \n",
       "...        ...      ...  \n",
       "5450    입산자 실화     0.20  \n",
       "5451    입산자 실화     0.16  \n",
       "5452    입산자 실화     0.02  \n",
       "5453    입산자 실화     0.05  \n",
       "5454    입산자 실화     0.50  \n",
       "\n",
       "[5455 rows x 18 columns]"
      ]
     },
     "execution_count": 2,
     "metadata": {},
     "output_type": "execute_result"
    }
   ],
   "source": [
    "fire_data = pd.read_excel(r'C:\\Users\\KDP38\\Desktop\\KDT7\\project\\fire_final.xlsx')\n",
    "fire_data.tail(5)\n",
    "fire_data"
   ]
  },
  {
   "cell_type": "markdown",
   "metadata": {},
   "source": [
    "[ 결측치 값 여부 확인 ] <hr>"
   ]
  },
  {
   "cell_type": "code",
   "execution_count": 3,
   "metadata": {},
   "outputs": [
    {
     "name": "stdout",
     "output_type": "stream",
     "text": [
      "0\n",
      "0\n",
      "0\n"
     ]
    }
   ],
   "source": [
    "print(fire_data['발생원인_기타'].isnull().sum())\n",
    "print(fire_data['발생일시_년'].isnull().sum())\n",
    "print(fire_data['발생장소_시도'].isnull().sum())"
   ]
  },
  {
   "cell_type": "code",
   "execution_count": 4,
   "metadata": {},
   "outputs": [
    {
     "ename": "NameError",
     "evalue": "name 'fire_data' is not defined",
     "output_type": "error",
     "traceback": [
      "\u001b[1;31m---------------------------------------------------------------------------\u001b[0m",
      "\u001b[1;31mNameError\u001b[0m                                 Traceback (most recent call last)",
      "Cell \u001b[1;32mIn[4], line 1\u001b[0m\n\u001b[1;32m----> 1\u001b[0m \u001b[38;5;28mprint\u001b[39m(\u001b[43mfire_data\u001b[49m[\u001b[38;5;124m'\u001b[39m\u001b[38;5;124m발생원인_기타\u001b[39m\u001b[38;5;124m'\u001b[39m]\u001b[38;5;241m.\u001b[39mvalue_counts())\n",
      "\u001b[1;31mNameError\u001b[0m: name 'fire_data' is not defined"
     ]
    }
   ],
   "source": [
    "print(fire_data['발생원인_기타'].value_counts())"
   ]
  },
  {
   "cell_type": "markdown",
   "metadata": {},
   "source": [
    "[ 도별 산불 발생원인별 빈도 수 ] <hr>"
   ]
  },
  {
   "cell_type": "code",
   "execution_count": 4,
   "metadata": {},
   "outputs": [
    {
     "name": "stdout",
     "output_type": "stream",
     "text": [
      "발생원인_기타\n",
      "입산자 실화         239\n",
      "쓰레기 소각         117\n",
      "원인미상           106\n",
      "담뱃불 실화          46\n",
      "건축물 화재          44\n",
      "화기물 취급 실화       35\n",
      "사업장 실화          22\n",
      "불씨취급부주의         20\n",
      "전기 화재           19\n",
      "재 취급 부주의        14\n",
      "논, 밭두렁 소각       14\n",
      "기타               9\n",
      "군부대 훈련중 부주의      9\n",
      "낙뢰               8\n",
      "조사중              7\n",
      "용접작업실화           6\n",
      "공장화재비화           5\n",
      "공사장실화            5\n",
      "차량 화재            4\n",
      "방화               4\n",
      "불장난              4\n",
      "취사행위             2\n",
      "재발화              1\n",
      "무속행위             1\n",
      "Name: count, dtype: int64\n"
     ]
    }
   ],
   "source": [
    "place_cause = fire_data[fire_data['발생장소_시도'] == \"강원\"]\n",
    "r_data = place_cause['발생원인_기타']\n",
    "value1 = r_data.value_counts()\n",
    "print(value1)\n"
   ]
  },
  {
   "cell_type": "code",
   "execution_count": 5,
   "metadata": {},
   "outputs": [
    {
     "name": "stdout",
     "output_type": "stream",
     "text": [
      "발생원인_기타\n",
      "쓰레기 소각         308\n",
      "입산자 실화         297\n",
      "원인미상           233\n",
      "담뱃불 실화         133\n",
      "논, 밭두렁 소각       67\n",
      "건축물 화재          55\n",
      "사업장 실화          36\n",
      "화기물 취급 실화       24\n",
      "공장화재비화          22\n",
      "기타              16\n",
      "재 취급 부주의        15\n",
      "불씨취급부주의         15\n",
      "전기 화재           11\n",
      "방화              11\n",
      "재발화             10\n",
      "용접작업실화          10\n",
      "공사장실화            8\n",
      "군부대 훈련중 부주의      8\n",
      "조사중              6\n",
      "차량 화재            5\n",
      "불장난              5\n",
      "무속행위             3\n",
      "취사행위             1\n",
      "Name: count, dtype: int64\n"
     ]
    }
   ],
   "source": [
    "\n",
    "place_cause2 = fire_data[fire_data['발생장소_시도'] == \"경기\"]\n",
    "r_data2 = place_cause2['발생원인_기타']\n",
    "value2 = r_data2.value_counts()\n",
    "print(value2)\n"
   ]
  },
  {
   "cell_type": "code",
   "execution_count": 6,
   "metadata": {},
   "outputs": [
    {
     "name": "stdout",
     "output_type": "stream",
     "text": [
      "발생원인_기타\n",
      "원인미상           54\n",
      "쓰레기 소각         35\n",
      "입산자 실화         34\n",
      "담뱃불 실화         20\n",
      "논, 밭두렁 소각      18\n",
      "불씨취급부주의         3\n",
      "건축물 화재          2\n",
      "화기물 취급 실화       2\n",
      "불법소각            2\n",
      "취사행위            2\n",
      "재발화             2\n",
      "군부대 훈련중 부주의     2\n",
      "낚시꾼             2\n",
      "조사중             1\n",
      "기타              1\n",
      "사업장 실화          1\n",
      "방화              1\n",
      "불장난             1\n",
      "Name: count, dtype: int64\n"
     ]
    }
   ],
   "source": [
    "place_cause3 = fire_data[fire_data['발생장소_시도'] == '인천']\n",
    "r_data3 = place_cause3['발생원인_기타']\n",
    "value3 = r_data3.value_counts()\n",
    "print(value3)"
   ]
  },
  {
   "cell_type": "code",
   "execution_count": 7,
   "metadata": {},
   "outputs": [
    {
     "name": "stdout",
     "output_type": "stream",
     "text": [
      "발생원인_기타\n",
      "원인미상         50\n",
      "입산자 실화       18\n",
      "쓰레기 소각        8\n",
      "방화            4\n",
      "불장난           3\n",
      "건축물 화재        3\n",
      "담뱃불 실화        2\n",
      "논, 밭두렁 소각     2\n",
      "기타            2\n",
      "사업장 실화        1\n",
      "공사장실화         1\n",
      "조사중           1\n",
      "Name: count, dtype: int64\n"
     ]
    }
   ],
   "source": [
    "place_cause7 = fire_data[fire_data['발생장소_시도'] == \"서울\"]\n",
    "r_data7 = place_cause7['발생원인_기타']\n",
    "value7= r_data7.value_counts()\n",
    "print(value7)\n"
   ]
  },
  {
   "cell_type": "code",
   "execution_count": 10,
   "metadata": {},
   "outputs": [],
   "source": [
    "# 경상도 데이터 분류 파일 불러오기\n",
    "fire_data_1 = pd.read_excel(r'C:\\Users\\KDP38\\Desktop\\KDT7\\project\\fire_경상.xlsx')"
   ]
  },
  {
   "cell_type": "code",
   "execution_count": 11,
   "metadata": {},
   "outputs": [
    {
     "name": "stdout",
     "output_type": "stream",
     "text": [
      "발생원인_기타\n",
      "입산자 실화         597\n",
      "쓰레기 소각         303\n",
      "원인미상           209\n",
      "담뱃불 실화         109\n",
      "건축물 화재          97\n",
      "사업장 실화          57\n",
      "논, 밭두렁 소각       55\n",
      "전기 화재           33\n",
      "방화              33\n",
      "화기물 취급 실화       33\n",
      "불씨취급부주의         32\n",
      "재 취급 부주의        27\n",
      "조사중             22\n",
      "기타              20\n",
      "공장화재비화          15\n",
      "용접작업실화          14\n",
      "공사장실화           11\n",
      "낙뢰              10\n",
      "차량 화재            9\n",
      "무속행위             7\n",
      "군부대 훈련중 부주의      4\n",
      "취사행위             3\n",
      "자연발화             3\n",
      "낚시꾼              3\n",
      "재발화              2\n",
      "과열 화재            1\n",
      "불장난              1\n",
      "Name: count, dtype: int64\n"
     ]
    }
   ],
   "source": [
    "place4 = fire_data_1[fire_data_1['발생장소_시도'] == '경상']\n",
    "place_cause4 = fire_data_1['발생원인_기타']\n",
    "value4 = place_cause4.value_counts()\n",
    "print(value4)"
   ]
  },
  {
   "cell_type": "code",
   "execution_count": 12,
   "metadata": {},
   "outputs": [],
   "source": [
    "# 전라도 데이터 분류 파일 불러오기\n",
    "fire_data_2 = pd.read_excel(r'C:\\Users\\KDP38\\Desktop\\KDT7\\project\\fire_전라.xlsx')"
   ]
  },
  {
   "cell_type": "code",
   "execution_count": 13,
   "metadata": {},
   "outputs": [
    {
     "name": "stdout",
     "output_type": "stream",
     "text": [
      "발생원인_기타\n",
      "입산자 실화         284\n",
      "쓰레기 소각         149\n",
      "원인미상            52\n",
      "담뱃불 실화          41\n",
      "논, 밭두렁 소각       38\n",
      "사업장 실화          18\n",
      "불씨취급부주의         15\n",
      "기타              11\n",
      "건축물 화재           9\n",
      "용접작업실화           8\n",
      "전기 화재            7\n",
      "공사장실화            7\n",
      "방화               6\n",
      "화기물 취급 실화        5\n",
      "과열 화재            4\n",
      "차량 화재            4\n",
      "무속행위             3\n",
      "재 취급 부주의         3\n",
      "낙뢰               2\n",
      "낚시꾼              2\n",
      "불장난              1\n",
      "조사중              1\n",
      "공장화재비화           1\n",
      "군부대 훈련중 부주의      1\n",
      "자연발화             1\n",
      "취사행위             1\n",
      "정신지체자 실화         1\n",
      "Name: count, dtype: int64\n"
     ]
    }
   ],
   "source": [
    "place5 = fire_data_2[fire_data_2['발생장소_시도'] == '전라']\n",
    "place_cause5 = fire_data_2['발생원인_기타']\n",
    "value5 = place_cause5.value_counts()\n",
    "print(value5)"
   ]
  },
  {
   "cell_type": "code",
   "execution_count": 15,
   "metadata": {},
   "outputs": [
    {
     "name": "stdout",
     "output_type": "stream",
     "text": [
      "발생원인_기타\n",
      "입산자 실화         309\n",
      "쓰레기 소각         137\n",
      "원인미상            64\n",
      "담뱃불 실화          61\n",
      "논, 밭두렁 소각       29\n",
      "화기물 취급 실화       29\n",
      "건축물 화재          26\n",
      "불씨취급부주의         20\n",
      "사업장 실화          18\n",
      "기타               9\n",
      "용접작업실화           7\n",
      "전기 화재            7\n",
      "재 취급 부주의         6\n",
      "조사중              5\n",
      "공사장실화            4\n",
      "차량 화재            3\n",
      "낚시꾼              3\n",
      "방화               3\n",
      "낙뢰               2\n",
      "군부대 훈련중 부주의      2\n",
      "공장화재비화           2\n",
      "무속행위             2\n",
      "불장난              1\n",
      "Name: count, dtype: int64\n"
     ]
    }
   ],
   "source": [
    "# 충청도 데이터 분류 파일 불러오기\n",
    "fire_data_3 = pd.read_excel(r'C:\\Users\\KDP38\\Desktop\\KDT7\\project\\fire_충청.xlsx')\n",
    "\n",
    "place6 = fire_data_3[fire_data_3['발생장소_시도'] == '충청']\n",
    "place_cause6 = fire_data_3['발생원인_기타']\n",
    "value6 = place_cause6.value_counts()\n",
    "print(value6)"
   ]
  },
  {
   "cell_type": "markdown",
   "metadata": {},
   "source": [
    "[ 연도별 산불 발생원인별 빈도 수 ] <hr>"
   ]
  },
  {
   "cell_type": "code",
   "execution_count": 16,
   "metadata": {},
   "outputs": [
    {
     "name": "stdout",
     "output_type": "stream",
     "text": [
      "발생원인_기타\n",
      "입산자 실화         197\n",
      "쓰레기 소각         146\n",
      "원인미상           112\n",
      "논, 밭두렁 소각       39\n",
      "담뱃불 실화          28\n",
      "기타              12\n",
      "화기물 취급 실화       12\n",
      "건축물 화재           9\n",
      "군부대 훈련중 부주의      9\n",
      "방화               7\n",
      "공사장실화            6\n",
      "사업장 실화           6\n",
      "불씨취급부주의          4\n",
      "낙뢰               4\n",
      "불장난              4\n",
      "전기 화재            4\n",
      "조사중              3\n",
      "재발화              3\n",
      "공장화재비화           3\n",
      "취사행위             3\n",
      "자연발화             2\n",
      "무속행위             2\n",
      "낚시꾼              2\n",
      "재 취급 부주의         2\n",
      "차량 화재            2\n",
      "과열 화재            1\n",
      "용접작업실화           1\n",
      "Name: count, dtype: int64\n"
     ]
    }
   ],
   "source": [
    "def fire_big_data(fire_data, year):\n",
    "    year_data = fire_data[fire_data['발생일시_년'] == year]\n",
    "    cause_data = year_data['발생원인_기타']\n",
    "    return cause_data.value_counts()\n",
    "\n",
    "result = fire_big_data(fire_data, 2015)\n",
    "print(result)"
   ]
  },
  {
   "cell_type": "code",
   "execution_count": 17,
   "metadata": {},
   "outputs": [
    {
     "name": "stdout",
     "output_type": "stream",
     "text": [
      "발생원인_기타\n",
      "쓰레기 소각         127\n",
      "입산자 실화         117\n",
      "논, 밭두렁 소각       31\n",
      "원인미상            30\n",
      "담뱃불 실화          21\n",
      "화기물 취급 실화       12\n",
      "건축물 화재           9\n",
      "조사중              7\n",
      "사업장 실화           6\n",
      "방화               5\n",
      "공사장실화            4\n",
      "무속행위             3\n",
      "차량 화재            3\n",
      "전기 화재            2\n",
      "불씨취급부주의          2\n",
      "군부대 훈련중 부주의      2\n",
      "공장화재비화           2\n",
      "낚시꾼              2\n",
      "용접작업실화           2\n",
      "취사행위             1\n",
      "재 취급 부주의         1\n",
      "기타               1\n",
      "불장난              1\n",
      "Name: count, dtype: int64\n"
     ]
    }
   ],
   "source": [
    "result2 = fire_big_data(fire_data, 2016)\n",
    "print(result2)"
   ]
  },
  {
   "cell_type": "code",
   "execution_count": 18,
   "metadata": {},
   "outputs": [
    {
     "name": "stdout",
     "output_type": "stream",
     "text": [
      "발생원인_기타\n",
      "입산자 실화       266\n",
      "쓰레기 소각       157\n",
      "원인미상          87\n",
      "논, 밭두렁 소각     45\n",
      "담뱃불 실화        30\n",
      "건축물 화재        22\n",
      "화기물 취급 실화     21\n",
      "사업장 실화        13\n",
      "기타             8\n",
      "방화             5\n",
      "공장화재비화         5\n",
      "무속행위           5\n",
      "불씨취급부주의        4\n",
      "전기 화재          4\n",
      "재 취급 부주의       4\n",
      "용접작업실화         4\n",
      "조사중            2\n",
      "불장난            2\n",
      "낙뢰             2\n",
      "차량 화재          2\n",
      "재발화            2\n",
      "낚시꾼            1\n",
      "공사장실화          1\n",
      "Name: count, dtype: int64\n"
     ]
    }
   ],
   "source": [
    "result3 = fire_big_data(fire_data, 2017)\n",
    "print(result3)\n"
   ]
  },
  {
   "cell_type": "code",
   "execution_count": 19,
   "metadata": {},
   "outputs": [
    {
     "name": "stdout",
     "output_type": "stream",
     "text": [
      "발생원인_기타\n",
      "입산자 실화         169\n",
      "쓰레기 소각          98\n",
      "원인미상            79\n",
      "건축물 화재          30\n",
      "논, 밭두렁 소각       30\n",
      "담뱃불 실화          25\n",
      "사업장 실화          15\n",
      "기타               9\n",
      "화기물 취급 실화        8\n",
      "공장화재비화           5\n",
      "불씨취급부주의          5\n",
      "용접작업실화           4\n",
      "전기 화재            4\n",
      "방화               3\n",
      "군부대 훈련중 부주의      3\n",
      "공사장실화            2\n",
      "낚시꾼              2\n",
      "무속행위             1\n",
      "조사중              1\n",
      "과열 화재            1\n",
      "불장난              1\n",
      "재 취급 부주의         1\n",
      "Name: count, dtype: int64\n"
     ]
    }
   ],
   "source": [
    "result4 = fire_big_data(fire_data, 2018)\n",
    "print(result4)"
   ]
  },
  {
   "cell_type": "code",
   "execution_count": 20,
   "metadata": {},
   "outputs": [
    {
     "name": "stdout",
     "output_type": "stream",
     "text": [
      "발생원인_기타\n",
      "입산자 실화         185\n",
      "원인미상           141\n",
      "쓰레기 소각         135\n",
      "건축물 화재          37\n",
      "담뱃불 실화          28\n",
      "논, 밭두렁 소각       25\n",
      "사업장 실화          21\n",
      "화기물 취급 실화       14\n",
      "불씨취급부주의          9\n",
      "방화               8\n",
      "공장화재비화           8\n",
      "전기 화재            5\n",
      "공사장실화            5\n",
      "용접작업실화           5\n",
      "재 취급 부주의         5\n",
      "기타               4\n",
      "무속행위             3\n",
      "낙뢰               3\n",
      "군부대 훈련중 부주의      2\n",
      "취사행위             2\n",
      "불장난              2\n",
      "조사중              2\n",
      "재발화              2\n",
      "차량 화재            1\n",
      "자연발화             1\n",
      "Name: count, dtype: int64\n"
     ]
    }
   ],
   "source": [
    "result5 = fire_big_data(fire_data, 2019)\n",
    "print(result5)"
   ]
  },
  {
   "cell_type": "code",
   "execution_count": 21,
   "metadata": {},
   "outputs": [
    {
     "name": "stdout",
     "output_type": "stream",
     "text": [
      "발생원인_기타\n",
      "입산자 실화         222\n",
      "쓰레기 소각         100\n",
      "담뱃불 실화          79\n",
      "원인미상            66\n",
      "건축물 화재          43\n",
      "사업장 실화          18\n",
      "화기물 취급 실화       14\n",
      "전기 화재           13\n",
      "논, 밭두렁 소각       12\n",
      "재발화              8\n",
      "기타               6\n",
      "불씨취급부주의          6\n",
      "방화               6\n",
      "재 취급 부주의         6\n",
      "용접작업실화           4\n",
      "차량 화재            4\n",
      "공사장실화            4\n",
      "군부대 훈련중 부주의      2\n",
      "불법소각             2\n",
      "공장화재비화           1\n",
      "낙뢰               1\n",
      "무속행위             1\n",
      "취사행위             1\n",
      "불장난              1\n",
      "Name: count, dtype: int64\n"
     ]
    }
   ],
   "source": [
    "result6= fire_big_data(fire_data, 2020)\n",
    "print(result6)"
   ]
  },
  {
   "cell_type": "code",
   "execution_count": 22,
   "metadata": {},
   "outputs": [
    {
     "name": "stdout",
     "output_type": "stream",
     "text": [
      "발생원인_기타\n",
      "입산자 실화         137\n",
      "원인미상            49\n",
      "쓰레기 소각          45\n",
      "담뱃불 실화          37\n",
      "건축물 화재          13\n",
      "사업장 실화           7\n",
      "재 취급 부주의         7\n",
      "화기물 취급 실화        7\n",
      "방화               6\n",
      "불씨취급부주의          5\n",
      "낙뢰               5\n",
      "공사장실화            5\n",
      "논, 밭두렁 소각        5\n",
      "군부대 훈련중 부주의      4\n",
      "전기 화재            4\n",
      "용접작업실화           3\n",
      "불장난              3\n",
      "공장화재비화           3\n",
      "낚시꾼              1\n",
      "기타               1\n",
      "차량 화재            1\n",
      "자연발화             1\n",
      "Name: count, dtype: int64\n"
     ]
    }
   ],
   "source": [
    "result7= fire_big_data(fire_data, 2021)\n",
    "print(result7)"
   ]
  },
  {
   "cell_type": "code",
   "execution_count": 23,
   "metadata": {},
   "outputs": [
    {
     "name": "stdout",
     "output_type": "stream",
     "text": [
      "발생원인_기타\n",
      "입산자 실화         253\n",
      "원인미상           125\n",
      "쓰레기 소각          94\n",
      "담뱃불 실화          68\n",
      "건축물 화재          35\n",
      "불씨취급부주의         28\n",
      "사업장 실화          27\n",
      "화기물 취급 실화       23\n",
      "기타              16\n",
      "조사중             14\n",
      "전기 화재           12\n",
      "논, 밭두렁 소각       11\n",
      "재 취급 부주의        10\n",
      "방화              10\n",
      "공장화재비화           9\n",
      "용접작업실화           7\n",
      "차량 화재            5\n",
      "공사장실화            4\n",
      "낚시꾼              1\n",
      "무속행위             1\n",
      "낙뢰               1\n",
      "과열 화재            1\n",
      "군부대 훈련중 부주의      1\n",
      "Name: count, dtype: int64\n"
     ]
    }
   ],
   "source": [
    "result8= fire_big_data(fire_data, 2022)\n",
    "print(result8)"
   ]
  },
  {
   "cell_type": "code",
   "execution_count": 24,
   "metadata": {},
   "outputs": [
    {
     "name": "stdout",
     "output_type": "stream",
     "text": [
      "발생원인_기타\n",
      "입산자 실화         187\n",
      "쓰레기 소각         112\n",
      "담뱃불 실화          62\n",
      "원인미상            36\n",
      "불씨취급부주의         31\n",
      "사업장 실화          27\n",
      "건축물 화재          26\n",
      "논, 밭두렁 소각       17\n",
      "전기 화재           17\n",
      "재 취급 부주의        14\n",
      "용접작업실화          12\n",
      "화기물 취급 실화       10\n",
      "기타               8\n",
      "공장화재비화           7\n",
      "방화               7\n",
      "낙뢰               6\n",
      "공사장실화            5\n",
      "차량 화재            4\n",
      "취사행위             2\n",
      "군부대 훈련중 부주의      2\n",
      "과열 화재            2\n",
      "불장난              1\n",
      "조사중              1\n",
      "Name: count, dtype: int64\n"
     ]
    }
   ],
   "source": [
    "result9= fire_big_data(fire_data, 2023)\n",
    "print(result9)"
   ]
  },
  {
   "cell_type": "code",
   "execution_count": 25,
   "metadata": {},
   "outputs": [
    {
     "name": "stdout",
     "output_type": "stream",
     "text": [
      "발생원인_기타\n",
      "입산자 실화         46\n",
      "원인미상           44\n",
      "쓰레기 소각         43\n",
      "담뱃불 실화         35\n",
      "재 취급 부주의       15\n",
      "조사중            13\n",
      "사업장 실화         13\n",
      "건축물 화재         12\n",
      "전기 화재          12\n",
      "불씨취급부주의        11\n",
      "논, 밭두렁 소각       8\n",
      "화기물 취급 실화       7\n",
      "방화              5\n",
      "기타              4\n",
      "차량 화재           3\n",
      "용접작업실화          3\n",
      "공장화재비화          2\n",
      "낚시꾼             1\n",
      "불장난             1\n",
      "군부대 훈련중 부주의     1\n",
      "Name: count, dtype: int64\n"
     ]
    }
   ],
   "source": [
    "result10= fire_big_data(fire_data, 2024)\n",
    "print(result10)"
   ]
  },
  {
   "cell_type": "markdown",
   "metadata": {},
   "source": [
    "[ 계절별 산불 발생원인별 빈도 수] <hr>"
   ]
  },
  {
   "cell_type": "code",
   "execution_count": 26,
   "metadata": {},
   "outputs": [],
   "source": [
    "def season_cause_data(fire_data, season):\n",
    "    season_months = {\n",
    "        \"spring\": [3, 4, 5],\n",
    "        \"summer\": [6, 7, 8],\n",
    "        \"fall\": [9, 10, 11],\n",
    "        \"winter\": [12, 1, 2],\n",
    "    }\n",
    "    months = season_months.get(season.lower())\n",
    "\n",
    "    season_data = fire_data[fire_data['발생일시_월'].isin(months)]\n",
    "    cause_season = season_data['발생원인_기타']\n",
    "    return cause_season.value_counts()"
   ]
  },
  {
   "cell_type": "code",
   "execution_count": 27,
   "metadata": {},
   "outputs": [
    {
     "name": "stdout",
     "output_type": "stream",
     "text": [
      "봄에 산불이 가장 많이 난 원인 => \n",
      "발생원인_기타\n",
      "입산자 실화         977\n",
      "쓰레기 소각         647\n",
      "원인미상           388\n",
      "담뱃불 실화         246\n",
      "논, 밭두렁 소각      170\n",
      "건축물 화재         111\n",
      "사업장 실화          78\n",
      "불씨취급부주의         62\n",
      "화기물 취급 실화       44\n",
      "전기 화재           41\n",
      "용접작업실화          36\n",
      "기타              34\n",
      "재 취급 부주의        30\n",
      "방화              25\n",
      "공장화재비화          23\n",
      "차량 화재           18\n",
      "공사장실화           18\n",
      "조사중             14\n",
      "군부대 훈련중 부주의     14\n",
      "재발화             12\n",
      "낙뢰              12\n",
      "불장난              7\n",
      "무속행위             6\n",
      "취사행위             6\n",
      "낚시꾼              4\n",
      "과열 화재            2\n",
      "불법소각             2\n",
      "자연발화             1\n",
      "Name: count, dtype: int64\n",
      "------------------------------------------\n"
     ]
    }
   ],
   "source": [
    "print('봄에 산불이 가장 많이 난 원인 => ', end = \"\\n\"); print(season_cause_data(fire_data, \"spring\"), end = \"\\n\")\n",
    "print('------------------------------------------')"
   ]
  },
  {
   "cell_type": "code",
   "execution_count": 28,
   "metadata": {},
   "outputs": [
    {
     "name": "stdout",
     "output_type": "stream",
     "text": [
      "여름에 산불이 가장 많이 난 원인 => \n",
      "발생원인_기타\n",
      "입산자 실화         202\n",
      "원인미상           102\n",
      "쓰레기 소각          68\n",
      "담뱃불 실화          34\n",
      "사업장 실화          18\n",
      "건축물 화재          14\n",
      "전기 화재            9\n",
      "기타               7\n",
      "낙뢰               7\n",
      "방화               6\n",
      "논, 밭두렁 소각        6\n",
      "불씨취급부주의          5\n",
      "조사중              5\n",
      "공장화재비화           5\n",
      "낚시꾼              3\n",
      "무속행위             3\n",
      "화기물 취급 실화        2\n",
      "군부대 훈련중 부주의      2\n",
      "용접작업실화           1\n",
      "차량 화재            1\n",
      "자연발화             1\n",
      "과열 화재            1\n",
      "재발화              1\n",
      "Name: count, dtype: int64\n",
      "------------------------------------------\n"
     ]
    }
   ],
   "source": [
    "print('여름에 산불이 가장 많이 난 원인 => ', end = \"\\n\"); print(season_cause_data(fire_data, \"summer\"), end = \"\\n\")\n",
    "print('------------------------------------------')"
   ]
  },
  {
   "cell_type": "code",
   "execution_count": 29,
   "metadata": {},
   "outputs": [
    {
     "name": "stdout",
     "output_type": "stream",
     "text": [
      "가을에 산불이 가장 많이 난 원인 => \n",
      "발생원인_기타\n",
      "입산자 실화         195\n",
      "원인미상            74\n",
      "쓰레기 소각          63\n",
      "담뱃불 실화          29\n",
      "건축물 화재          16\n",
      "사업장 실화           9\n",
      "조사중              8\n",
      "화기물 취급 실화        8\n",
      "불씨취급부주의          7\n",
      "공사장실화            7\n",
      "방화               7\n",
      "기타               6\n",
      "재 취급 부주의         6\n",
      "군부대 훈련중 부주의      6\n",
      "전기 화재            4\n",
      "공장화재비화           4\n",
      "차량 화재            3\n",
      "무속행위             3\n",
      "논, 밭두렁 소각        3\n",
      "낚시꾼              2\n",
      "취사행위             2\n",
      "재발화              1\n",
      "자연발화             1\n",
      "불장난              1\n",
      "낙뢰               1\n",
      "Name: count, dtype: int64\n",
      "------------------------------------------\n"
     ]
    }
   ],
   "source": [
    "\n",
    "\n",
    "print('가을에 산불이 가장 많이 난 원인 => ', end = \"\\n\"); print(season_cause_data(fire_data, \"fall\"), end = \"\\n\")\n",
    "print('------------------------------------------')"
   ]
  },
  {
   "cell_type": "code",
   "execution_count": 30,
   "metadata": {},
   "outputs": [
    {
     "name": "stdout",
     "output_type": "stream",
     "text": [
      "겨울에 산불이 가장 많이 난 원인 => \n",
      "발생원인_기타\n",
      "입산자 실화         405\n",
      "쓰레기 소각         279\n",
      "원인미상           205\n",
      "담뱃불 실화         104\n",
      "건축물 화재          95\n",
      "화기물 취급 실화       74\n",
      "사업장 실화          48\n",
      "논, 밭두렁 소각       44\n",
      "불씨취급부주의         31\n",
      "재 취급 부주의        29\n",
      "방화              24\n",
      "전기 화재           23\n",
      "기타              22\n",
      "조사중             16\n",
      "공장화재비화          13\n",
      "공사장실화           11\n",
      "용접작업실화           8\n",
      "불장난              8\n",
      "무속행위             4\n",
      "군부대 훈련중 부주의      4\n",
      "차량 화재            3\n",
      "낙뢰               2\n",
      "과열 화재            2\n",
      "취사행위             1\n",
      "자연발화             1\n",
      "낚시꾼              1\n",
      "재발화              1\n",
      "Name: count, dtype: int64\n"
     ]
    }
   ],
   "source": [
    "print('겨울에 산불이 가장 많이 난 원인 => ', end = \"\\n\"); print(season_cause_data(fire_data, \"winter\"), end = \"\\n\")"
   ]
  }
 ],
 "metadata": {
  "kernelspec": {
   "display_name": "PY39",
   "language": "python",
   "name": "python3"
  },
  "language_info": {
   "codemirror_mode": {
    "name": "ipython",
    "version": 3
   },
   "file_extension": ".py",
   "mimetype": "text/x-python",
   "name": "python",
   "nbconvert_exporter": "python",
   "pygments_lexer": "ipython3",
   "version": "3.9.21"
  }
 },
 "nbformat": 4,
 "nbformat_minor": 2
}
